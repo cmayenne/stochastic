{
 "cells": [
  {
   "cell_type": "markdown",
   "id": "d8823f9d",
   "metadata": {},
   "source": [
    "# Project - Market Day\n",
    "\n",
    "<a rel=\"license\" href=\"http://creativecommons.org/licenses/by-sa/4.0/\"><img alt=\"Creative Commons License\" align=\"left\" src=\"https://i.creativecommons.org/l/by-sa/4.0/80x15.png\" /></a>&nbsp;| Dennis G. Wilson | <a href=\"https://supaerodatascience.github.io/stochastic/\">https://supaerodatascience.github.io/stochastic/</a>"
   ]
  },
  {
   "cell_type": "markdown",
   "id": "e6452934",
   "metadata": {},
   "source": [
    "![Stardew Valley](https://venturebeat.com/wp-content/uploads/2018/01/sw7rtba7p1xs77klsime.png)"
   ]
  },
  {
   "cell_type": "markdown",
   "id": "68359e75",
   "metadata": {},
   "source": [
    "It is Market Day! You've been working hard for a whole season, planting, watering, and taking care of crops. Now it is time to sell them in town. Just one problem though - your old truck can only carry so much weight. Which crops should you bring to maximize your profits? "
   ]
  },
  {
   "cell_type": "markdown",
   "id": "fa661645",
   "metadata": {},
   "source": [
    "In this project, you will use a stochastic algorithm of your choice to find the best crop configuration you can load into your truck. You know how much stock you have of each crop, how much each crop weighs, and what price it will fetch at the market. You should use these values throughout the project."
   ]
  },
  {
   "cell_type": "markdown",
   "id": "459e3e1a",
   "metadata": {},
   "source": [
    "Before we start, if you're using colab to run this notebook, you'll need to uncomment and run the following lines:"
   ]
  },
  {
   "cell_type": "code",
   "execution_count": 1,
   "id": "c98dedf7",
   "metadata": {},
   "outputs": [],
   "source": [
    "#!wget https://raw.githubusercontent.com/SupaeroDataScience/stochastic/master/project/market.csv\n",
    "#!wget https://raw.githubusercontent.com/SupaeroDataScience/stochastic/master/project/recipes.csv\n",
    "#!pip install pymoo"
   ]
  },
  {
   "cell_type": "code",
   "execution_count": 2,
   "id": "3fd3c7cf",
   "metadata": {},
   "outputs": [],
   "source": [
    "import numpy as np\n",
    "import pandas as pd\n",
    "import pymoo\n",
    "import copy\n",
    "import matplotlib.pyplot as plt"
   ]
  },
  {
   "cell_type": "code",
   "execution_count": 3,
   "id": "1c3d4f41",
   "metadata": {},
   "outputs": [
    {
     "data": {
      "text/html": [
       "<div>\n",
       "<style scoped>\n",
       "    .dataframe tbody tr th:only-of-type {\n",
       "        vertical-align: middle;\n",
       "    }\n",
       "\n",
       "    .dataframe tbody tr th {\n",
       "        vertical-align: top;\n",
       "    }\n",
       "\n",
       "    .dataframe thead th {\n",
       "        text-align: right;\n",
       "    }\n",
       "</style>\n",
       "<table border=\"1\" class=\"dataframe\">\n",
       "  <thead>\n",
       "    <tr style=\"text-align: right;\">\n",
       "      <th></th>\n",
       "      <th>stock</th>\n",
       "      <th>weight</th>\n",
       "      <th>price_A</th>\n",
       "      <th>price_B</th>\n",
       "      <th>price_C</th>\n",
       "      <th>price_average</th>\n",
       "    </tr>\n",
       "  </thead>\n",
       "  <tbody>\n",
       "    <tr>\n",
       "      <th>Apple</th>\n",
       "      <td>5</td>\n",
       "      <td>5</td>\n",
       "      <td>1.00</td>\n",
       "      <td>0.5</td>\n",
       "      <td>1.1</td>\n",
       "      <td>0.866667</td>\n",
       "    </tr>\n",
       "    <tr>\n",
       "      <th>Apricot</th>\n",
       "      <td>65</td>\n",
       "      <td>3</td>\n",
       "      <td>0.50</td>\n",
       "      <td>0.2</td>\n",
       "      <td>0.6</td>\n",
       "      <td>0.433333</td>\n",
       "    </tr>\n",
       "    <tr>\n",
       "      <th>Blueberry</th>\n",
       "      <td>5</td>\n",
       "      <td>3</td>\n",
       "      <td>0.50</td>\n",
       "      <td>0.3</td>\n",
       "      <td>1.2</td>\n",
       "      <td>0.666667</td>\n",
       "    </tr>\n",
       "    <tr>\n",
       "      <th>Cactus Fruit</th>\n",
       "      <td>90</td>\n",
       "      <td>4</td>\n",
       "      <td>0.75</td>\n",
       "      <td>0.3</td>\n",
       "      <td>0.3</td>\n",
       "      <td>0.450000</td>\n",
       "    </tr>\n",
       "    <tr>\n",
       "      <th>Cherry</th>\n",
       "      <td>15</td>\n",
       "      <td>4</td>\n",
       "      <td>0.80</td>\n",
       "      <td>0.4</td>\n",
       "      <td>1.1</td>\n",
       "      <td>0.766667</td>\n",
       "    </tr>\n",
       "  </tbody>\n",
       "</table>\n",
       "</div>"
      ],
      "text/plain": [
       "              stock  weight  price_A  price_B  price_C  price_average\n",
       "Apple             5       5     1.00      0.5      1.1       0.866667\n",
       "Apricot          65       3     0.50      0.2      0.6       0.433333\n",
       "Blueberry         5       3     0.50      0.3      1.2       0.666667\n",
       "Cactus Fruit     90       4     0.75      0.3      0.3       0.450000\n",
       "Cherry           15       4     0.80      0.4      1.1       0.766667"
      ]
     },
     "execution_count": 3,
     "metadata": {},
     "output_type": "execute_result"
    }
   ],
   "source": [
    "df = pd.read_csv('market.csv', index_col=0)\n",
    "df[\"price_average\"] = (df[\"price_A\"]+df[\"price_B\"]+df[\"price_C\"])/3\n",
    "df.head()"
   ]
  },
  {
   "cell_type": "markdown",
   "id": "e4846926",
   "metadata": {},
   "source": [
    "Price average is added for later comparison."
   ]
  },
  {
   "cell_type": "code",
   "execution_count": 4,
   "id": "614d7ba3",
   "metadata": {},
   "outputs": [],
   "source": [
    "stock = df['stock'].to_dict()\n",
    "weight = df['weight'].to_dict()\n",
    "price = df['price_A'].to_dict()"
   ]
  },
  {
   "cell_type": "code",
   "execution_count": 5,
   "id": "5d28fa1e",
   "metadata": {},
   "outputs": [
    {
     "data": {
      "text/plain": [
       "{'Apple': 5,\n",
       " 'Apricot': 65,\n",
       " 'Blueberry': 5,\n",
       " 'Cactus Fruit': 90,\n",
       " 'Cherry': 15,\n",
       " 'Cranberry': 75,\n",
       " 'Grape': 70,\n",
       " 'Melon': 75,\n",
       " 'Orange': 40,\n",
       " 'Peach': 55,\n",
       " 'Pomegranate': 5,\n",
       " 'Rhubarb': 70,\n",
       " 'Starfruit': 5,\n",
       " 'Strawberry': 20,\n",
       " 'Amaranth': 20,\n",
       " 'Artichoke': 65,\n",
       " 'Beet': 30,\n",
       " 'Bok Choy': 55,\n",
       " 'Cauliflower': 70,\n",
       " 'Corn': 90,\n",
       " 'Eggplant': 95,\n",
       " 'Garlic': 95,\n",
       " 'Green Bean': 55,\n",
       " 'Hops': 75,\n",
       " 'Hot Pepper': 25,\n",
       " 'Kale': 5,\n",
       " 'Parsnip': 10,\n",
       " 'Potato': 55,\n",
       " 'Pumpkin': 30,\n",
       " 'Radish': 50,\n",
       " 'Red Cabbage': 55,\n",
       " 'Tomato': 65,\n",
       " 'Wheat': 75,\n",
       " 'Yam': 50,\n",
       " 'Blackberry': 70}"
      ]
     },
     "execution_count": 5,
     "metadata": {},
     "output_type": "execute_result"
    }
   ],
   "source": [
    "stock"
   ]
  },
  {
   "cell_type": "markdown",
   "id": "91c0dc4b",
   "metadata": {},
   "source": [
    "To evaluate your possible load going to the market, we will use a function that takes in a dictionary of this type, specifying how many of each crop you will take. This function will take into the constraints of having enough stock of the crop type and of not surpassing the weight limit."
   ]
  },
  {
   "cell_type": "code",
   "execution_count": 6,
   "id": "587b7af3",
   "metadata": {},
   "outputs": [],
   "source": [
    "# Modifiable surtout si on veut retourner des valeurs négatives pour à quelle point la contrainte est brisée\n",
    "def evaluate(load, stock, weight, price, max_weight=5000):\n",
    "    total_weight = 0\n",
    "    total_price = 0\n",
    "    for k in load:\n",
    "        if load[k] <= stock[k]:\n",
    "            total_price += load[k] * price[k]\n",
    "            total_weight += load[k] * weight[k]\n",
    "            if total_weight > max_weight:\n",
    "                return 0\n",
    "        else:\n",
    "            return 0\n",
    "    return total_price"
   ]
  },
  {
   "cell_type": "markdown",
   "id": "f832b811",
   "metadata": {},
   "source": [
    "You can try this with an example load generated randomly:"
   ]
  },
  {
   "cell_type": "code",
   "execution_count": 7,
   "id": "8223f09c",
   "metadata": {},
   "outputs": [
    {
     "data": {
      "text/plain": [
       "{'Apple': 4,\n",
       " 'Apricot': 15,\n",
       " 'Blueberry': 0,\n",
       " 'Cactus Fruit': 13,\n",
       " 'Cherry': 14,\n",
       " 'Cranberry': 42,\n",
       " 'Grape': 16,\n",
       " 'Melon': 0,\n",
       " 'Orange': 6,\n",
       " 'Peach': 24,\n",
       " 'Pomegranate': 4,\n",
       " 'Rhubarb': 62,\n",
       " 'Starfruit': 0,\n",
       " 'Strawberry': 3,\n",
       " 'Amaranth': 17,\n",
       " 'Artichoke': 25,\n",
       " 'Beet': 0,\n",
       " 'Bok Choy': 43,\n",
       " 'Cauliflower': 65,\n",
       " 'Corn': 49,\n",
       " 'Eggplant': 57,\n",
       " 'Garlic': 64,\n",
       " 'Green Bean': 21,\n",
       " 'Hops': 51,\n",
       " 'Hot Pepper': 10,\n",
       " 'Kale': 3,\n",
       " 'Parsnip': 1,\n",
       " 'Potato': 48,\n",
       " 'Pumpkin': 25,\n",
       " 'Radish': 43,\n",
       " 'Red Cabbage': 25,\n",
       " 'Tomato': 53,\n",
       " 'Wheat': 39,\n",
       " 'Yam': 43,\n",
       " 'Blackberry': 66}"
      ]
     },
     "execution_count": 7,
     "metadata": {},
     "output_type": "execute_result"
    }
   ],
   "source": [
    "trial_load = {}\n",
    "for k in stock:\n",
    "    trial_load[k] = np.random.randint(0, stock[k])\n",
    "trial_load"
   ]
  },
  {
   "cell_type": "code",
   "execution_count": 8,
   "id": "e9538ac0",
   "metadata": {},
   "outputs": [
    {
     "data": {
      "text/plain": [
       "791.55"
      ]
     },
     "execution_count": 8,
     "metadata": {},
     "output_type": "execute_result"
    }
   ],
   "source": [
    "evaluate(trial_load, stock, weight, price)"
   ]
  },
  {
   "cell_type": "markdown",
   "id": "b49edb3c",
   "metadata": {},
   "source": [
    "## Challenge 1\n",
    "\n",
    "Use a stochastic algorithm to find the configuration of crops that maximizes profit while respecting the constraints of the weight limit and stock. You can use any of the class code or a library like `pymoo`. You should create a reasonable representation for the problem and appropriate modification functions like mutation and crossover. You can also modify the evaluation function, as long as your final solution is valid according to the weight and stock constraints.\n",
    "\n",
    "Include your code for optimization, any visualizations of the optimization process, as well as code to show the final market load and profit gained. Can you beat the random trial load profits?\n",
    "\n",
    "Hint: this is a constrained case of the [knapsack problem](https://en.wikipedia.org/wiki/Knapsack_problem)"
   ]
  },
  {
   "cell_type": "code",
   "execution_count": 9,
   "id": "01bc4e58",
   "metadata": {},
   "outputs": [],
   "source": [
    "from pymoo.algorithms.moo.nsga2 import NSGA2\n",
    "from pymoo.operators.sampling.rnd import IntegerRandomSampling\n",
    "from pymoo.operators.crossover.sbx import SBX\n",
    "from pymoo.operators.mutation.pm import PM\n",
    "from pymoo.operators.repair.rounding import RoundingRepair\n",
    "from pymoo.operators.sampling.rnd import IntegerRandomSampling\n",
    "from pymoo.optimize import minimize\n",
    "\n",
    "algorithm = NSGA2(\n",
    "    pop_size=100,\n",
    "    n_offsprings=100,\n",
    "    sampling=IntegerRandomSampling(),\n",
    "    crossover=SBX(prob=1.0, eta=3.0, vtype=float, repair=RoundingRepair()),\n",
    "    mutation=PM(prob=1.0, eta=3.0, vtype=float, repair=RoundingRepair()),\n",
    "    eliminate_duplicates=True\n",
    ")"
   ]
  },
  {
   "cell_type": "code",
   "execution_count": 10,
   "id": "701230b7",
   "metadata": {},
   "outputs": [],
   "source": [
    "from pymoo.core.problem import ElementwiseProblem\n",
    "from typing import List\n",
    "\n",
    "# Multi-Objective KnapSack Problem \n",
    "class MOKSP(ElementwiseProblem):\n",
    "    \n",
    "    def __init__(self, n_var: int, list_obj: List[int], max_weight: int=5000, verbose: bool=True):      \n",
    "        # Check on inputs : n_var and list_obj\n",
    "        assert 1 <= n_var <= df.shape[0], \"Too many n_var, max is 35\"\n",
    "        for obj in list_obj:\n",
    "            assert 1 <= obj <= 4, \"Values in list_obj are not in [1, 2, 3, 4]\"\n",
    "        \n",
    "        self.n_var = n_var\n",
    "        self.max_weight = max_weight\n",
    "        self.df = df[:self.n_var]\n",
    "        \n",
    "        if verbose:\n",
    "            print(\"Row count : \", df.shape[0])\n",
    "            print(self.df)\n",
    "        \n",
    "        # lower bound\n",
    "        xl = np.zeros(n_var)\n",
    "        # upper bound\n",
    "        xu = self.df['stock'].values\n",
    "        \n",
    "        self.price_keys = [x for x in df.columns.to_list() if \"price\" in x]\n",
    "        \n",
    "        \n",
    "        self.stock = self.df['stock'].values\n",
    "        self.weight = self.df['weight'].values\n",
    "        self.price = []\n",
    "        \n",
    "        for obj in list_obj:\n",
    "            self.price.append(self.df[self.price_keys[obj-1]].values)\n",
    "        \n",
    "        super().__init__(n_var=n_var, n_obj=len(list_obj), n_constr=1, xl=xl, xu=xu)\n",
    "    \n",
    "    def compute_price_and_weight(self, load):\n",
    "        total_weight = 0\n",
    "        total_price = np.zeros(len(self.price))\n",
    "        for i in range(len(self.price)):\n",
    "            for k in range(load.shape[0]):\n",
    "                total_price[i] += load[k] * self.price[i][k]\n",
    "                if i==0:\n",
    "                    total_weight += load[k] * self.weight[k]\n",
    "        return total_weight, total_price\n",
    "    \n",
    "    def _evaluate(self, x, out, *args, **kwargs):\n",
    "\n",
    "        total_weight, fits = self.compute_price_and_weight(x)\n",
    "        \n",
    "        fits = -fits # The optimizer only works with minimization\n",
    "        \n",
    "        c = total_weight - self.max_weight\n",
    "        \n",
    "        # return by modifying out\n",
    "        out[\"F\"] = fits\n",
    "        out[\"G\"] = c"
   ]
  },
  {
   "cell_type": "code",
   "execution_count": 11,
   "id": "0c08c6ee",
   "metadata": {
    "scrolled": false
   },
   "outputs": [
    {
     "name": "stdout",
     "output_type": "stream",
     "text": [
      "==========================================================================================\n",
      "n_gen  |  n_eval  | n_nds  |     cv_min    |     cv_avg    |      eps      |   indicator  \n",
      "==========================================================================================\n",
      "     1 |      100 |      1 |  0.000000E+00 |  3.378000E+01 |             - |             -\n",
      "     2 |      200 |      1 |  0.000000E+00 |  0.000000E+00 |  2.970000E+01 |         ideal\n",
      "     3 |      300 |      1 |  0.000000E+00 |  0.000000E+00 |  9.2000000000 |         ideal\n",
      "     4 |      400 |      1 |  0.000000E+00 |  0.000000E+00 |  6.9000000000 |         ideal\n",
      "     5 |      500 |      1 |  0.000000E+00 |  0.000000E+00 |  7.0000000000 |         ideal\n",
      "     6 |      600 |      1 |  0.000000E+00 |  0.000000E+00 |  0.000000E+00 |             f\n",
      "     7 |      700 |      1 |  0.000000E+00 |  0.000000E+00 |  0.000000E+00 |             f\n",
      "     8 |      800 |      1 |  0.000000E+00 |  0.000000E+00 |  1.900000E+01 |         ideal\n",
      "     9 |      900 |      1 |  0.000000E+00 |  0.000000E+00 |  0.000000E+00 |             f\n",
      "    10 |     1000 |      1 |  0.000000E+00 |  0.000000E+00 |  1.160000E+01 |         ideal\n",
      "    11 |     1100 |      1 |  0.000000E+00 |  0.000000E+00 |  0.000000E+00 |             f\n",
      "    12 |     1200 |      1 |  0.000000E+00 |  0.000000E+00 |  6.6000000000 |         ideal\n",
      "    13 |     1300 |      1 |  0.000000E+00 |  0.000000E+00 |  0.000000E+00 |             f\n",
      "    14 |     1400 |      1 |  0.000000E+00 |  0.000000E+00 |  1.190000E+01 |         ideal\n",
      "    15 |     1500 |      1 |  0.000000E+00 |  0.000000E+00 |  1.130000E+01 |         ideal\n",
      "    16 |     1600 |      1 |  0.000000E+00 |  0.000000E+00 |  0.000000E+00 |             f\n",
      "    17 |     1700 |      1 |  0.000000E+00 |  0.000000E+00 |  4.2000000000 |         ideal\n",
      "    18 |     1800 |      1 |  0.000000E+00 |  0.000000E+00 |  0.4000000000 |         ideal\n",
      "    19 |     1900 |      1 |  0.000000E+00 |  0.000000E+00 |  0.000000E+00 |             f\n",
      "    20 |     2000 |      1 |  0.000000E+00 |  0.000000E+00 |  4.2000000000 |         ideal\n",
      "    21 |     2100 |      1 |  0.000000E+00 |  0.000000E+00 |  0.000000E+00 |             f\n",
      "    22 |     2200 |      1 |  0.000000E+00 |  0.000000E+00 |  0.000000E+00 |             f\n",
      "    23 |     2300 |      1 |  0.000000E+00 |  0.000000E+00 |  3.6000000000 |         ideal\n",
      "    24 |     2400 |      1 |  0.000000E+00 |  0.000000E+00 |  2.4000000000 |         ideal\n",
      "    25 |     2500 |      1 |  0.000000E+00 |  0.000000E+00 |  0.000000E+00 |             f\n",
      "    26 |     2600 |      1 |  0.000000E+00 |  0.000000E+00 |  3.8000000000 |         ideal\n",
      "    27 |     2700 |      1 |  0.000000E+00 |  0.000000E+00 |  0.2000000000 |         ideal\n",
      "    28 |     2800 |      1 |  0.000000E+00 |  0.000000E+00 |  0.000000E+00 |             f\n",
      "    29 |     2900 |      1 |  0.000000E+00 |  0.000000E+00 |  3.0000000000 |         ideal\n",
      "    30 |     3000 |      1 |  0.000000E+00 |  0.000000E+00 |  0.000000E+00 |             f\n",
      "    31 |     3100 |      1 |  0.000000E+00 |  0.000000E+00 |  0.000000E+00 |             f\n",
      "    32 |     3200 |      1 |  0.000000E+00 |  0.000000E+00 |  0.4000000000 |         ideal\n",
      "    33 |     3300 |      1 |  0.000000E+00 |  0.000000E+00 |  5.3000000000 |         ideal\n",
      "    34 |     3400 |      1 |  0.000000E+00 |  0.000000E+00 |  1.3000000000 |         ideal\n",
      "    35 |     3500 |      1 |  0.000000E+00 |  0.000000E+00 |  1.4000000000 |         ideal\n",
      "    36 |     3600 |      1 |  0.000000E+00 |  0.000000E+00 |  0.000000E+00 |             f\n",
      "    37 |     3700 |      1 |  0.000000E+00 |  0.000000E+00 |  0.000000E+00 |             f\n",
      "    38 |     3800 |      1 |  0.000000E+00 |  0.000000E+00 |  0.9000000000 |         ideal\n",
      "    39 |     3900 |      1 |  0.000000E+00 |  0.000000E+00 |  0.000000E+00 |             f\n",
      "    40 |     4000 |      1 |  0.000000E+00 |  0.000000E+00 |  0.000000E+00 |             f\n",
      "    41 |     4100 |      1 |  0.000000E+00 |  0.000000E+00 |  4.3000000000 |         ideal\n",
      "    42 |     4200 |      1 |  0.000000E+00 |  0.000000E+00 |  0.000000E+00 |             f\n",
      "    43 |     4300 |      1 |  0.000000E+00 |  0.000000E+00 |  0.7000000000 |         ideal\n",
      "    44 |     4400 |      1 |  0.000000E+00 |  0.000000E+00 |  0.000000E+00 |             f\n",
      "    45 |     4500 |      1 |  0.000000E+00 |  0.000000E+00 |  0.000000E+00 |             f\n",
      "    46 |     4600 |      1 |  0.000000E+00 |  0.000000E+00 |  1.0000000000 |         ideal\n",
      "    47 |     4700 |      1 |  0.000000E+00 |  0.000000E+00 |  1.4000000000 |         ideal\n",
      "    48 |     4800 |      1 |  0.000000E+00 |  0.000000E+00 |  0.000000E+00 |             f\n",
      "    49 |     4900 |      1 |  0.000000E+00 |  0.000000E+00 |  1.3000000000 |         ideal\n",
      "    50 |     5000 |      1 |  0.000000E+00 |  0.000000E+00 |  2.0000000000 |         ideal\n",
      "    51 |     5100 |      1 |  0.000000E+00 |  0.000000E+00 |  1.136868E-13 |             f\n",
      "    52 |     5200 |      1 |  0.000000E+00 |  0.000000E+00 |  1.136868E-13 |             f\n",
      "    53 |     5300 |      1 |  0.000000E+00 |  0.000000E+00 |  0.4000000000 |         ideal\n",
      "    54 |     5400 |      2 |  0.000000E+00 |  0.000000E+00 |  0.000000E+00 |             f\n",
      "    55 |     5500 |      1 |  0.000000E+00 |  0.000000E+00 |  2.4000000000 |         ideal\n",
      "    56 |     5600 |      1 |  0.000000E+00 |  0.000000E+00 |  1.2000000000 |         ideal\n",
      "    57 |     5700 |      1 |  0.000000E+00 |  0.000000E+00 |  0.000000E+00 |             f\n",
      "    58 |     5800 |      1 |  0.000000E+00 |  0.000000E+00 |  1.3000000000 |         ideal\n",
      "    59 |     5900 |      1 |  0.000000E+00 |  0.000000E+00 |  0.000000E+00 |             f\n",
      "    60 |     6000 |      1 |  0.000000E+00 |  0.000000E+00 |  0.000000E+00 |             f\n",
      "    61 |     6100 |      1 |  0.000000E+00 |  0.000000E+00 |  1.1000000000 |         ideal\n",
      "    62 |     6200 |      1 |  0.000000E+00 |  0.000000E+00 |  0.000000E+00 |             f\n",
      "    63 |     6300 |      1 |  0.000000E+00 |  0.000000E+00 |  0.000000E+00 |             f\n",
      "    64 |     6400 |      1 |  0.000000E+00 |  0.000000E+00 |  2.4000000000 |         ideal\n",
      "    65 |     6500 |      1 |  0.000000E+00 |  0.000000E+00 |  0.000000E+00 |             f\n",
      "    66 |     6600 |      1 |  0.000000E+00 |  0.000000E+00 |  0.000000E+00 |             f\n",
      "    67 |     6700 |      1 |  0.000000E+00 |  0.000000E+00 |  0.000000E+00 |             f\n",
      "    68 |     6800 |      1 |  0.000000E+00 |  0.000000E+00 |  1.0000000000 |         ideal\n",
      "    69 |     6900 |      1 |  0.000000E+00 |  0.000000E+00 |  0.2000000000 |         ideal\n",
      "    70 |     7000 |      1 |  0.000000E+00 |  0.000000E+00 |  0.000000E+00 |             f\n",
      "    71 |     7100 |      1 |  0.000000E+00 |  0.000000E+00 |  0.9000000000 |         ideal\n",
      "    72 |     7200 |      1 |  0.000000E+00 |  0.000000E+00 |  0.000000E+00 |             f\n",
      "    73 |     7300 |      1 |  0.000000E+00 |  0.000000E+00 |  0.000000E+00 |             f\n",
      "    74 |     7400 |      1 |  0.000000E+00 |  0.000000E+00 |  3.7000000000 |         ideal\n",
      "    75 |     7500 |      1 |  0.000000E+00 |  0.000000E+00 |  0.000000E+00 |             f\n",
      "    76 |     7600 |      1 |  0.000000E+00 |  0.000000E+00 |  0.000000E+00 |             f\n",
      "    77 |     7700 |      1 |  0.000000E+00 |  0.000000E+00 |  0.8000000000 |         ideal\n",
      "    78 |     7800 |      1 |  0.000000E+00 |  0.000000E+00 |  0.000000E+00 |             f\n",
      "    79 |     7900 |      1 |  0.000000E+00 |  0.000000E+00 |  0.000000E+00 |             f\n",
      "    80 |     8000 |      1 |  0.000000E+00 |  0.000000E+00 |  0.1000000000 |         ideal\n",
      "    81 |     8100 |      1 |  0.000000E+00 |  0.000000E+00 |  0.000000E+00 |             f\n",
      "    82 |     8200 |      1 |  0.000000E+00 |  0.000000E+00 |  0.4000000000 |         ideal\n",
      "    83 |     8300 |      1 |  0.000000E+00 |  0.000000E+00 |  0.000000E+00 |             f\n",
      "    84 |     8400 |      1 |  0.000000E+00 |  0.000000E+00 |  0.000000E+00 |             f\n",
      "    85 |     8500 |      1 |  0.000000E+00 |  0.000000E+00 |  1.3000000000 |         ideal\n",
      "    86 |     8600 |      1 |  0.000000E+00 |  0.000000E+00 |  0.8000000000 |         ideal\n",
      "    87 |     8700 |      1 |  0.000000E+00 |  0.000000E+00 |  0.000000E+00 |             f\n",
      "    88 |     8800 |      1 |  0.000000E+00 |  0.000000E+00 |  0.000000E+00 |             f\n",
      "    89 |     8900 |      1 |  0.000000E+00 |  0.000000E+00 |  0.9000000000 |         ideal\n",
      "    90 |     9000 |      1 |  0.000000E+00 |  0.000000E+00 |  0.000000E+00 |             f\n"
     ]
    },
    {
     "name": "stdout",
     "output_type": "stream",
     "text": [
      "    91 |     9100 |      1 |  0.000000E+00 |  0.000000E+00 |  0.000000E+00 |             f\n",
      "    92 |     9200 |      1 |  0.000000E+00 |  0.000000E+00 |  0.000000E+00 |             f\n",
      "    93 |     9300 |      1 |  0.000000E+00 |  0.000000E+00 |  0.000000E+00 |             f\n",
      "    94 |     9400 |      1 |  0.000000E+00 |  0.000000E+00 |  0.000000E+00 |             f\n",
      "    95 |     9500 |      1 |  0.000000E+00 |  0.000000E+00 |  0.3000000000 |         ideal\n",
      "    96 |     9600 |      1 |  0.000000E+00 |  0.000000E+00 |  0.4000000000 |         ideal\n",
      "    97 |     9700 |      1 |  0.000000E+00 |  0.000000E+00 |  0.000000E+00 |             f\n",
      "    98 |     9800 |      1 |  0.000000E+00 |  0.000000E+00 |  0.000000E+00 |             f\n",
      "    99 |     9900 |      1 |  0.000000E+00 |  0.000000E+00 |  0.000000E+00 |             f\n",
      "   100 |    10000 |      1 |  0.000000E+00 |  0.000000E+00 |  0.3000000000 |         ideal\n"
     ]
    }
   ],
   "source": [
    "problem = MOKSP(35, [3], 5000, verbose=False)\n",
    "res = minimize(problem,\n",
    "               algorithm,\n",
    "               (\"n_gen\", 100),\n",
    "               seed=1,\n",
    "               save_history=True,\n",
    "               verbose=True)"
   ]
  },
  {
   "cell_type": "code",
   "execution_count": 12,
   "id": "e2216a92",
   "metadata": {},
   "outputs": [],
   "source": [
    "def print_end_results(problem, results):\n",
    "    \n",
    "    print(\"Training time : \", np.round(results.exec_time,3), \"s\")\n",
    "    \n",
    "    if len(results.X.shape) == 1:\n",
    "        weight, score = problem.compute_price_and_weight(results.X)\n",
    "        print(\"Best score : \\t\", score)\n",
    "        print(\"Weight : \\t\", weight)\n",
    "        print(\"Load breakdown : \\n\", results.X)\n",
    "\n",
    "    else:\n",
    "        print(\"Multiple solutions exist\")\n",
    "        weight, price = problem.compute_price_and_weight(results.X[0,:])\n",
    "        best_mean_price = np.mean(price)\n",
    "        best_mean_X = results.X[0,:]\n",
    "        best_single_optim_X = []\n",
    "        best_singel_optim_price = []\n",
    "        for i in range(len(price)):\n",
    "            best_single_optim_X.append(np.copy(results.X[0,:]))\n",
    "            best_singel_optim_price.append(price[i])        \n",
    "        \n",
    "        for i in range(1, results.X.shape[0]):\n",
    "            X = results.X[i,:]\n",
    "            weight, price = problem.compute_price_and_weight(X)\n",
    "            mean_price = np.mean(price)\n",
    "            if mean_price > best_mean_price:\n",
    "                best_mean_price = mean_price\n",
    "                best_X = X\n",
    "            for i in range(len(price)):\n",
    "                if price[i] > best_singel_optim_price[i]:\n",
    "                    best_singel_optim_price[i] = price[i]\n",
    "                    best_single_optim_X[i] = np.copy(X)\n",
    "        \n",
    "        weight, price = problem.compute_price_and_weight(best_mean_X)\n",
    "        print(\"Best mean score : \", np.mean(price), \" Score detail : \", price)\n",
    "        print(\"Weight : \\t\", weight)\n",
    "        print(\"Load breakdown : \\n\", best_mean_X)\n",
    "        \n",
    "        for i in range(len(best_singel_optim_price)):\n",
    "            X = best_single_optim_X[i]\n",
    "            weight, price = problem.compute_price_and_weight(X)\n",
    "            print(\"Best single score : \", price[i])\n",
    "            print(\"Weight : \\t\", weight)\n",
    "            print(\"Load breakdown : \\n\", X)\n",
    "    \n",
    "    print(\"\\nIn stock : \\n\", problem.stock)  \n",
    "    print(\"\\n\\n\")"
   ]
  },
  {
   "cell_type": "code",
   "execution_count": 13,
   "id": "03a4c5f0",
   "metadata": {},
   "outputs": [
    {
     "name": "stdout",
     "output_type": "stream",
     "text": [
      "Training time :  7.984 s\n",
      "Best score : \t [754.]\n",
      "Weight : \t 4999\n",
      "Load breakdown : \n",
      " [ 5 65  5 67 15 70 70  5 40 45  4  0  0 20 20 64 30 54 13 88 94 94 55 57\n",
      " 25  5 10 55  0 50  4 63 75 49 70]\n",
      "\n",
      "In stock : \n",
      " [ 5 65  5 90 15 75 70 75 40 55  5 70  5 20 20 65 30 55 70 90 95 95 55 75\n",
      " 25  5 10 55 30 50 55 65 75 50 70]\n",
      "\n",
      "\n",
      "\n"
     ]
    }
   ],
   "source": [
    "print_end_results(problem, res)\n",
    "# Best so far price per weight 1142.1, for avg price 757.6333"
   ]
  },
  {
   "cell_type": "code",
   "execution_count": 37,
   "id": "c5da04d4",
   "metadata": {},
   "outputs": [],
   "source": [
    "def get_convergence(results):\n",
    "    n_gen = np.array([e.evaluator.n_eval for e in results.history])/results.history[0].evaluator.n_eval\n",
    "    score = -np.array([e.opt[0].F for e in results.history])\n",
    "    \n",
    "    if len(score[0]) > 1: # Multi-Optimization\n",
    "        score = np.zeros((score.shape[0], score.shape[1]+1))\n",
    "        \n",
    "        for i in range(len(results.history)):\n",
    "            e = results.history[i]\n",
    "            for k in range(len(e.opt)):\n",
    "                new = -e.opt[k].F\n",
    "                for m in range(score.shape[1]):\n",
    "                    if m == score.shape[1]-1:\n",
    "                        if np.mean(new) > score[i,score.shape[1]-1]:\n",
    "                            score[i,score.shape[1]-1] = np.mean(new)\n",
    "                    else:\n",
    "                        if new[m] > score[i,m]:\n",
    "                            score[i,m] = new[m]\n",
    "    return n_gen, score\n",
    "\n",
    "        \n",
    "        \n",
    "def plot_convergence(n_gen, score, fmt: str=\"-\", label: str=\" \"):\n",
    "    \n",
    "    plt.plot(n_gen, score, fmt,  label=label)\n",
    "    \n",
    "    plt.title(\"Convergence\")\n",
    "    plt.xlabel(\"Generation\")\n",
    "    plt.ylabel(\"Total load price\")\n",
    "    plt.legend()\n",
    "    plt.tight_layout"
   ]
  },
  {
   "cell_type": "code",
   "execution_count": 38,
   "id": "1d60793f",
   "metadata": {
    "scrolled": false
   },
   "outputs": [
    {
     "data": {
      "image/png": "[encoded data removed]",
      "text/plain": [
       "<Figure size 640x480 with 1 Axes>"
      ]
     },
     "metadata": {},
     "output_type": "display_data"
    }
   ],
   "source": [
    "n_gen, score = get_convergence(res)\n",
    "plot_convergence(n_gen, score, label=\"Price A\")"
   ]
  },
  {
   "cell_type": "markdown",
   "id": "1db64ad0",
   "metadata": {},
   "source": [
    "## Challenge 2\n"
   ]
  },
  {
   "cell_type": "markdown",
   "id": "ad10e8aa",
   "metadata": {},
   "source": [
    "The agricultural market in this world is highly variable. This time, you'll be selling your load to a reseller, but you're not sure which one. Each reseller has different prices, so it depends on which one you'll meet. To be prepared, you should explore the possible options."
   ]
  },
  {
   "cell_type": "code",
   "execution_count": 16,
   "id": "6f1fb98d",
   "metadata": {},
   "outputs": [],
   "source": [
    "price_a = df['price_A'].to_dict()\n",
    "price_b = df['price_B'].to_dict()\n",
    "price_c = df['price_C'].to_dict()"
   ]
  },
  {
   "cell_type": "code",
   "execution_count": 17,
   "id": "c2b295f9",
   "metadata": {},
   "outputs": [
    {
     "data": {
      "text/plain": [
       "(0.8, 0.4, 1.1)"
      ]
     },
     "execution_count": 17,
     "metadata": {},
     "output_type": "execute_result"
    }
   ],
   "source": [
    "price_a['Cherry'], price_b['Cherry'], price_c['Cherry']"
   ]
  },
  {
   "cell_type": "markdown",
   "id": "5ad5ab54",
   "metadata": {},
   "source": [
    "Given that cherries have very different prices between the different resellers, the example load we made ealier would fetch a wildly different price depending on the reseller:"
   ]
  },
  {
   "cell_type": "code",
   "execution_count": 18,
   "id": "8dc3fa44",
   "metadata": {},
   "outputs": [
    {
     "name": "stdout",
     "output_type": "stream",
     "text": [
      "791.55 360.09999999999997 492.20000000000005\n"
     ]
    }
   ],
   "source": [
    "a = evaluate(trial_load, stock, weight, price_a)\n",
    "b = evaluate(trial_load, stock, weight, price_b)\n",
    "c = evaluate(trial_load, stock, weight, price_c)\n",
    "print(a, b, c)"
   ]
  },
  {
   "cell_type": "markdown",
   "id": "40447192",
   "metadata": {},
   "source": [
    "Prepare four different options for your market day haul: one option that will be good for reseller A, one for reseller B, one for reseller C, and one which would be pretty good for all three. Display these options and compare their different prices."
   ]
  },
  {
   "cell_type": "markdown",
   "id": "8c3ff230",
   "metadata": {},
   "source": [
    "Hint: you can use a multi-objective algorithm to optimize for all three reseller prices at the same time."
   ]
  },
  {
   "cell_type": "code",
   "execution_count": 47,
   "id": "680bc05a",
   "metadata": {
    "scrolled": false
   },
   "outputs": [
    {
     "name": "stdout",
     "output_type": "stream",
     "text": [
      "Optimizing on objective(s) : [1]\n",
      "Optimizing on objective(s) : [2]\n",
      "Optimizing on objective(s) : [3]\n",
      "Optimizing on objective(s) : [4]\n",
      "Optimizing on objective(s) : [1, 2, 3]\n"
     ]
    }
   ],
   "source": [
    "# Running same optimizer but with different objectives\n",
    "problem_list = []\n",
    "res_list = []\n",
    "\n",
    "# List of objectives to optimize on\n",
    "obj_list_list = [[1], [2], [3], [4], [1, 2, 3]] # 1=Price A, 2=Price B, 3=Price C, 4=Price Average\n",
    "\n",
    "for obj_list in obj_list_list:\n",
    "    print(\"Optimizing on objective(s) :\", obj_list)\n",
    "    \n",
    "    problem_list.append(MOKSP(35, obj_list, 5000, verbose=False))\n",
    "    res_list.append(\n",
    "        minimize(problem_list[-1],\n",
    "        algorithm,\n",
    "        (\"n_gen\", 100),\n",
    "        seed=1,\n",
    "        save_history=True,\n",
    "        verbose=False)\n",
    "    )"
   ]
  },
  {
   "cell_type": "code",
   "execution_count": 147,
   "id": "2f338d49",
   "metadata": {
    "scrolled": false
   },
   "outputs": [
    {
     "data": {
      "image/png": "[encoded data removed]",
      "text/plain": [
       "<Figure size 640x480 with 1 Axes>"
      ]
     },
     "metadata": {},
     "output_type": "display_data"
    }
   ],
   "source": [
    "score_single = []\n",
    "\n",
    "for i in range(len(obj_list_list)):\n",
    "    n_gen, score = get_convergence(res_list[i])\n",
    "    \n",
    "    if i < len(obj_list_list)-1:\n",
    "        score_single += list(score[-1,:])\n",
    "    else:\n",
    "        score_multi = score[-1,:]\n",
    "    \n",
    "    if len(obj_list_list[i]) > 1:\n",
    "        for j in range(score.shape[1]):\n",
    "            if j == score.shape[1]-1:\n",
    "                plot_convergence(n_gen, score[:,j], \"--\" , label=\"Best mean for \" + str(obj_list_list[i]))\n",
    "            else:\n",
    "                plot_convergence(n_gen, score[:,j], label=\"Best \" + str(obj_list_list[i][j]) + \" for \" + str(obj_list_list[i]))\n",
    "    else:\n",
    "        if obj_list_list[i][0] == 4:\n",
    "            plot_convergence(n_gen, score,\"--\", label=\"Optim on price_average\")\n",
    "        else:\n",
    "            plot_convergence(n_gen, score, label=str(obj_list_list[i]))\n",
    "\n",
    "score_single = np.array(score_single)\n",
    "score_multi = np.array(score_multi)"
   ]
  },
  {
   "cell_type": "code",
   "execution_count": 139,
   "id": "91c9b8a6",
   "metadata": {},
   "outputs": [
    {
     "name": "stdout",
     "output_type": "stream",
     "text": [
      "Score for multiple single optimizations (4th=avg):\t [1127.5         446.4         751.3         744.03333333]\n",
      "Score for single multi optimization (4th=avg):\t\t [1048.45        431.4         694.          709.83333333]\n",
      "Improovement by doing multiple single optimizations [%]: [7.01108647 3.36021505 7.62678025 4.59656825]\n"
     ]
    }
   ],
   "source": [
    "print(\"Score for multiple single optimizations (4th=avg):\\t\", score_single)\n",
    "print(\"Score for single multi optimization (4th=avg):\\t\\t\", score_multi)\n",
    "print(\"Improovement by doing multiple single optimizations [%]:\", (score_single-score_multi)/score_single*100)"
   ]
  },
  {
   "cell_type": "markdown",
   "id": "7f559699",
   "metadata": {},
   "source": [
    "One can clearly see that optimizing on one objective is better that taking the best solution out of a multi-objective optimization. Knowing this, an optimization on the averaged price $Price_{average} = \\frac{Price_A + Price_B + Price_C}{3}$ yields a better result than our current \"Best mean for [1, 2, 3]\"."
   ]
  },
  {
   "cell_type": "markdown",
   "id": "79f8c8e0",
   "metadata": {},
   "source": [
    "Not only single objective optimization yields better performances, it is also faster to execute."
   ]
  },
  {
   "cell_type": "code",
   "execution_count": 136,
   "id": "443bd6d6",
   "metadata": {},
   "outputs": [
    {
     "name": "stdout",
     "output_type": "stream",
     "text": [
      "Total time for 4 single optimizations : \t 25.831614017486572 s\n",
      "Total time for 1 multi optimization :\t 8.774244785308838 s\n",
      "\n",
      "Multi parameter optimization is 2.94 times faster.\n"
     ]
    }
   ],
   "source": [
    "t_tot = 0\n",
    "for i in [0,1,2,3]:\n",
    "    t_tot += res_list[i].exec_time\n",
    "print(\"Total time for 4 single optimizations : \\t\", t_tot, \"s\")\n",
    "print(\"Total time for 1 multi optimization :\\t\", res_list[4].exec_time, \"s\")\n",
    "print(\"\\nMulti parameter optimization is\", np.round(t_tot/res_list[4].exec_time , 2), \"times faster.\")"
   ]
  },
  {
   "cell_type": "markdown",
   "id": "f9e7a733",
   "metadata": {},
   "source": [
    "But the multi-objective is more flexible. If one does not know in advance the specific weights for each objectives, training a multi-parameter optimization allow the user to choose at a later date the best result according to the objective weights.\n",
    "\n",
    "Here this difference is not a problem since the computation is fast, but for a heavier problem requiering hours or days of training, the multi-optimization solution is preferable."
   ]
  },
  {
   "cell_type": "code",
   "execution_count": 137,
   "id": "7d1bca9f",
   "metadata": {},
   "outputs": [
    {
     "name": "stdout",
     "output_type": "stream",
     "text": [
      "Optimization for :  [1]\n",
      "Training time :  6.509 s\n",
      "Best score : \t [1127.5]\n",
      "Weight : \t 4994\n",
      "Load breakdown : \n",
      " [ 5 63  1 90 14 74 63  0 16 44  4  0  0 20 20 62 30 55 70 89 94 95 48  0\n",
      " 21  4 10 52  0 48 42 64  0 50 46]\n",
      "\n",
      "In stock : \n",
      " [ 5 65  5 90 15 75 70 75 40 55  5 70  5 20 20 65 30 55 70 90 95 95 55 75\n",
      " 25  5 10 55 30 50 55 65 75 50 70]\n",
      "\n",
      "\n",
      "\n",
      "Optimization for :  [2]\n",
      "Training time :  6.519 s\n",
      "Best score : \t [446.4]\n",
      "Weight : \t 4986\n",
      "Load breakdown : \n",
      " [ 4  3  3 80 14 10 43 63 39 24  3 68  0 20 20 10 28  4 69  1 18  0 21  4\n",
      " 24  5  6  5 28 48 26 12 29 43  4]\n",
      "\n",
      "In stock : \n",
      " [ 5 65  5 90 15 75 70 75 40 55  5 70  5 20 20 65 30 55 70 90 95 95 55 75\n",
      " 25  5 10 55 30 50 55 65 75 50 70]\n",
      "\n",
      "\n",
      "\n",
      "Optimization for :  [3]\n",
      "Training time :  6.265 s\n",
      "Best score : \t [751.3]\n",
      "Weight : \t 4992\n",
      "Load breakdown : \n",
      " [ 5 65  4 13 15 48 69 53 37 23  5  0  0 20 19 62 30 55 17 86 95 76 55 51\n",
      " 25  5 10 54  1 50  0 65 67 45 70]\n",
      "\n",
      "In stock : \n",
      " [ 5 65  5 90 15 75 70 75 40 55  5 70  5 20 20 65 30 55 70 90 95 95 55 75\n",
      " 25  5 10 55 30 50 55 65 75 50 70]\n",
      "\n",
      "\n",
      "\n",
      "Optimization for :  [4]\n",
      "Training time :  6.538 s\n",
      "Best score : \t [744.03333333]\n",
      "Weight : \t 4996\n",
      "Load breakdown : \n",
      " [ 2 65  3 22 15 68 69 26 38 41  5  0  0 17 20 65 30 54 64 89 95 95 54  2\n",
      " 25  5 10 54  0 50 21 64  8 49 66]\n",
      "\n",
      "In stock : \n",
      " [ 5 65  5 90 15 75 70 75 40 55  5 70  5 20 20 65 30 55 70 90 95 95 55 75\n",
      " 25  5 10 55 30 50 55 65 75 50 70]\n",
      "\n",
      "\n",
      "\n",
      "Optimization for :  [1, 2, 3]\n",
      "Training time :  8.774 s\n",
      "Multiple solutions exist\n",
      "Best mean score :  665.6833333333332  Score detail :  [967.65 412.1  617.3 ]\n",
      "Weight : \t 4999\n",
      "Load breakdown : \n",
      " [ 4 61  2 86  0 68 39 66 30  4  5 23  0 16 16 58 19 50 59 34 78 55 35  5\n",
      " 16  1  4 33  5 46 13 43 43 43 20]\n",
      "Best single score :  1048.45\n",
      "Weight : \t 5000\n",
      "Load breakdown : \n",
      " [ 4 62  3 53 10 12 65 33 39 30  2  1  1 18 18 62 19 53 68 79 89 95 55  8\n",
      " 22  2  3 33  6 44 40 61 23 39 62]\n",
      "Best single score :  431.4\n",
      "Weight : \t 4977\n",
      "Load breakdown : \n",
      " [ 4 14  1 55  5 35 39 66 38 11  1 55  1 16 10 48  8 10 62 33 24 36 18 18\n",
      " 24  2  3 12 12 40 45 37 11 50  1]\n",
      "Best single score :  694.0000000000001\n",
      "Weight : \t 4981\n",
      "Load breakdown : \n",
      " [ 4 60  5 31  6 28 65 71 35  0  2  0  1 18 19 58 27 39 12 88 89 81 45 22\n",
      " 25  2  8 33  6 49 32 62 73 43 64]\n",
      "\n",
      "In stock : \n",
      " [ 5 65  5 90 15 75 70 75 40 55  5 70  5 20 20 65 30 55 70 90 95 95 55 75\n",
      " 25  5 10 55 30 50 55 65 75 50 70]\n",
      "\n",
      "\n",
      "\n"
     ]
    }
   ],
   "source": [
    "# Now we will fetch the resulting loads :\n",
    "for i in range(len(obj_list_list)):\n",
    "    print(\"Optimization for : \", obj_list_list[i])\n",
    "    print_end_results(problem_list[i], res_list[i])"
   ]
  },
  {
   "cell_type": "code",
   "execution_count": 46,
   "id": "23a33396",
   "metadata": {},
   "outputs": [
    {
     "data": {
      "text/plain": [
       "<pymoo.visualization.scatter.Scatter at 0x7ff98b13da60>"
      ]
     },
     "execution_count": 46,
     "metadata": {},
     "output_type": "execute_result"
    },
    {
     "data": {
      "image/png": "[encoded data removed]",
      "text/plain": [
       "<Figure size 800x600 with 1 Axes>"
      ]
     },
     "metadata": {},
     "output_type": "display_data"
    }
   ],
   "source": [
    "from pymoo.visualization.scatter import Scatter\n",
    "plot = Scatter(tight_layout=True)\n",
    "plot.add(res_list[-1].F, s=10)\n",
    "plot.show()"
   ]
  },
  {
   "cell_type": "markdown",
   "id": "0d026d23",
   "metadata": {},
   "source": [
    "## Challenge 3"
   ]
  },
  {
   "cell_type": "markdown",
   "id": "1d7603f4",
   "metadata": {},
   "source": [
    "You decide to preprare some of your crops by making food for the market day. You know a number of recipes and are famous for your delicious fruit pies."
   ]
  },
  {
   "cell_type": "code",
   "execution_count": 23,
   "id": "025beabd",
   "metadata": {},
   "outputs": [],
   "source": [
    "recipes = {'Ratatouille': {'Eggplant': 2, 'Garlic': 2, 'Tomato': 4, 'Hot Pepper': 1},\n",
    " 'Apple Pie': {'Apple': 10, 'Wheat': 5},\n",
    " 'Apricot Pie': {'Apricot': 10, 'Wheat': 5},\n",
    " 'Cherry Pie': {'Cherry': 10, 'Wheat': 5},\n",
    " 'Rhubarb Pie': {'Rhubarb': 10, 'Wheat': 5},\n",
    " 'Strawberry Pie': {'Strawberry': 10, 'Wheat': 5},\n",
    " 'Blackberry Pie': {'Blackberry': 10, 'Wheat': 5},\n",
    " 'Pumpkin Pie': {'Pumpkin': 10, 'Wheat': 5},\n",
    " 'Pizza': {'Tomato': 3, 'Wheat': 2, 'Artichoke': 1},\n",
    " 'Baba Ghanoush': {'Eggplant': 2, 'Garlic': 4},\n",
    " 'Squash Soup': {'Yam': 3, 'Pumpkin': 1},\n",
    " 'Peach Beer': {'Hops': 3, 'Peach': 1},\n",
    " 'Blackberry Beer': {'Hops': 3, 'Blackberry': 1}}"
   ]
  },
  {
   "cell_type": "markdown",
   "id": "1e250a2c",
   "metadata": {},
   "source": [
    "These recipes sell for good prices at each of the resellers:"
   ]
  },
  {
   "cell_type": "code",
   "execution_count": 158,
   "id": "7d0bfc4d",
   "metadata": {},
   "outputs": [
    {
     "data": {
      "text/html": [
       "<div>\n",
       "<style scoped>\n",
       "    .dataframe tbody tr th:only-of-type {\n",
       "        vertical-align: middle;\n",
       "    }\n",
       "\n",
       "    .dataframe tbody tr th {\n",
       "        vertical-align: top;\n",
       "    }\n",
       "\n",
       "    .dataframe thead th {\n",
       "        text-align: right;\n",
       "    }\n",
       "</style>\n",
       "<table border=\"1\" class=\"dataframe\">\n",
       "  <thead>\n",
       "    <tr style=\"text-align: right;\">\n",
       "      <th></th>\n",
       "      <th>price_A</th>\n",
       "      <th>price_B</th>\n",
       "      <th>price_C</th>\n",
       "      <th>price_average</th>\n",
       "    </tr>\n",
       "  </thead>\n",
       "  <tbody>\n",
       "    <tr>\n",
       "      <th>Ratatouille</th>\n",
       "      <td>68.0</td>\n",
       "      <td>13.0</td>\n",
       "      <td>52.0</td>\n",
       "      <td>44.333333</td>\n",
       "    </tr>\n",
       "    <tr>\n",
       "      <th>Apple Pie</th>\n",
       "      <td>146.0</td>\n",
       "      <td>84.0</td>\n",
       "      <td>176.0</td>\n",
       "      <td>135.333333</td>\n",
       "    </tr>\n",
       "    <tr>\n",
       "      <th>Apricot Pie</th>\n",
       "      <td>81.0</td>\n",
       "      <td>46.0</td>\n",
       "      <td>110.0</td>\n",
       "      <td>79.000000</td>\n",
       "    </tr>\n",
       "    <tr>\n",
       "      <th>Cherry Pie</th>\n",
       "      <td>120.0</td>\n",
       "      <td>72.0</td>\n",
       "      <td>176.0</td>\n",
       "      <td>122.666667</td>\n",
       "    </tr>\n",
       "    <tr>\n",
       "      <th>Rhubarb Pie</th>\n",
       "      <td>133.0</td>\n",
       "      <td>162.0</td>\n",
       "      <td>98.0</td>\n",
       "      <td>131.000000</td>\n",
       "    </tr>\n",
       "  </tbody>\n",
       "</table>\n",
       "</div>"
      ],
      "text/plain": [
       "             price_A  price_B  price_C  price_average\n",
       "Ratatouille     68.0     13.0     52.0      44.333333\n",
       "Apple Pie      146.0     84.0    176.0     135.333333\n",
       "Apricot Pie     81.0     46.0    110.0      79.000000\n",
       "Cherry Pie     120.0     72.0    176.0     122.666667\n",
       "Rhubarb Pie    133.0    162.0     98.0     131.000000"
      ]
     },
     "execution_count": 158,
     "metadata": {},
     "output_type": "execute_result"
    }
   ],
   "source": [
    "dfr = pd.read_csv('recipes.csv', index_col=0)\n",
    "dfr[\"price_average\"] = (dfr[\"price_A\"]+dfr[\"price_B\"]+dfr[\"price_C\"])/3\n",
    "dfr.head()"
   ]
  },
  {
   "cell_type": "code",
   "execution_count": 176,
   "id": "ea311888",
   "metadata": {},
   "outputs": [
    {
     "name": "stdout",
     "output_type": "stream",
     "text": [
      "Ratatouille\n"
     ]
    },
    {
     "ename": "TypeError",
     "evalue": "Cannot index by location index with a non-integer key",
     "output_type": "error",
     "traceback": [
      "\u001b[0;31m---------------------------------------------------------------------------\u001b[0m",
      "\u001b[0;31mTypeError\u001b[0m                                 Traceback (most recent call last)",
      "Cell \u001b[0;32mIn [176], line 14\u001b[0m\n\u001b[1;32m     12\u001b[0m     w \u001b[38;5;241m+\u001b[39m\u001b[38;5;241m=\u001b[39m weight[i] \u001b[38;5;241m*\u001b[39m ingredients[i]\n\u001b[1;32m     13\u001b[0m \u001b[38;5;28mprint\u001b[39m(k)\n\u001b[0;32m---> 14\u001b[0m \u001b[43mdfr\u001b[49m\u001b[38;5;241;43m.\u001b[39;49m\u001b[43miloc\u001b[49m\u001b[43m[\u001b[49m\u001b[43mk\u001b[49m\u001b[43m]\u001b[49m[\u001b[38;5;124m\"\u001b[39m\u001b[38;5;124mweight\u001b[39m\u001b[38;5;124m\"\u001b[39m] \u001b[38;5;241m=\u001b[39m w\n",
      "File \u001b[0;32m~/.local/lib/python3.8/site-packages/pandas/core/indexing.py:967\u001b[0m, in \u001b[0;36m_LocationIndexer.__getitem__\u001b[0;34m(self, key)\u001b[0m\n\u001b[1;32m    964\u001b[0m axis \u001b[38;5;241m=\u001b[39m \u001b[38;5;28mself\u001b[39m\u001b[38;5;241m.\u001b[39maxis \u001b[38;5;129;01mor\u001b[39;00m \u001b[38;5;241m0\u001b[39m\n\u001b[1;32m    966\u001b[0m maybe_callable \u001b[38;5;241m=\u001b[39m com\u001b[38;5;241m.\u001b[39mapply_if_callable(key, \u001b[38;5;28mself\u001b[39m\u001b[38;5;241m.\u001b[39mobj)\n\u001b[0;32m--> 967\u001b[0m \u001b[38;5;28;01mreturn\u001b[39;00m \u001b[38;5;28;43mself\u001b[39;49m\u001b[38;5;241;43m.\u001b[39;49m\u001b[43m_getitem_axis\u001b[49m\u001b[43m(\u001b[49m\u001b[43mmaybe_callable\u001b[49m\u001b[43m,\u001b[49m\u001b[43m \u001b[49m\u001b[43maxis\u001b[49m\u001b[38;5;241;43m=\u001b[39;49m\u001b[43maxis\u001b[49m\u001b[43m)\u001b[49m\n",
      "File \u001b[0;32m~/.local/lib/python3.8/site-packages/pandas/core/indexing.py:1520\u001b[0m, in \u001b[0;36m_iLocIndexer._getitem_axis\u001b[0;34m(self, key, axis)\u001b[0m\n\u001b[1;32m   1518\u001b[0m key \u001b[38;5;241m=\u001b[39m item_from_zerodim(key)\n\u001b[1;32m   1519\u001b[0m \u001b[38;5;28;01mif\u001b[39;00m \u001b[38;5;129;01mnot\u001b[39;00m is_integer(key):\n\u001b[0;32m-> 1520\u001b[0m     \u001b[38;5;28;01mraise\u001b[39;00m \u001b[38;5;167;01mTypeError\u001b[39;00m(\u001b[38;5;124m\"\u001b[39m\u001b[38;5;124mCannot index by location index with a non-integer key\u001b[39m\u001b[38;5;124m\"\u001b[39m)\n\u001b[1;32m   1522\u001b[0m \u001b[38;5;66;03m# validate the location\u001b[39;00m\n\u001b[1;32m   1523\u001b[0m \u001b[38;5;28mself\u001b[39m\u001b[38;5;241m.\u001b[39m_validate_integer(key, axis)\n",
      "\u001b[0;31mTypeError\u001b[0m: Cannot index by location index with a non-integer key"
     ]
    }
   ],
   "source": [
    "dfr[\"weight\"] = 0\n",
    "\n",
    "recipe_load = {}\n",
    "for k in recipes:\n",
    "    recipe_load[k] = 1\n",
    "recipe_load\n",
    "\n",
    "for k in recipes:\n",
    "    ingredients = recipes[k]\n",
    "    w = 0\n",
    "    for i in ingredients:\n",
    "        w += weight[i] * ingredients[i]\n",
    "    print(k)\n",
    "    dfr.iloc[k][\"weight\"] = w"
   ]
  },
  {
   "cell_type": "code",
   "execution_count": 170,
   "id": "7e79efc8",
   "metadata": {},
   "outputs": [
    {
     "data": {
      "text/html": [
       "<div>\n",
       "<style scoped>\n",
       "    .dataframe tbody tr th:only-of-type {\n",
       "        vertical-align: middle;\n",
       "    }\n",
       "\n",
       "    .dataframe tbody tr th {\n",
       "        vertical-align: top;\n",
       "    }\n",
       "\n",
       "    .dataframe thead th {\n",
       "        text-align: right;\n",
       "    }\n",
       "</style>\n",
       "<table border=\"1\" class=\"dataframe\">\n",
       "  <thead>\n",
       "    <tr style=\"text-align: right;\">\n",
       "      <th></th>\n",
       "      <th>stock</th>\n",
       "      <th>weight</th>\n",
       "      <th>price_A</th>\n",
       "      <th>price_B</th>\n",
       "      <th>price_C</th>\n",
       "      <th>price_average</th>\n",
       "    </tr>\n",
       "  </thead>\n",
       "  <tbody>\n",
       "    <tr>\n",
       "      <th>Apple</th>\n",
       "      <td>5.0</td>\n",
       "      <td>5.0</td>\n",
       "      <td>1.00</td>\n",
       "      <td>0.5</td>\n",
       "      <td>1.1</td>\n",
       "      <td>0.866667</td>\n",
       "    </tr>\n",
       "    <tr>\n",
       "      <th>Apricot</th>\n",
       "      <td>65.0</td>\n",
       "      <td>3.0</td>\n",
       "      <td>0.50</td>\n",
       "      <td>0.2</td>\n",
       "      <td>0.6</td>\n",
       "      <td>0.433333</td>\n",
       "    </tr>\n",
       "    <tr>\n",
       "      <th>Blueberry</th>\n",
       "      <td>5.0</td>\n",
       "      <td>3.0</td>\n",
       "      <td>0.50</td>\n",
       "      <td>0.3</td>\n",
       "      <td>1.2</td>\n",
       "      <td>0.666667</td>\n",
       "    </tr>\n",
       "    <tr>\n",
       "      <th>Cactus Fruit</th>\n",
       "      <td>90.0</td>\n",
       "      <td>4.0</td>\n",
       "      <td>0.75</td>\n",
       "      <td>0.3</td>\n",
       "      <td>0.3</td>\n",
       "      <td>0.450000</td>\n",
       "    </tr>\n",
       "    <tr>\n",
       "      <th>Cherry</th>\n",
       "      <td>15.0</td>\n",
       "      <td>4.0</td>\n",
       "      <td>0.80</td>\n",
       "      <td>0.4</td>\n",
       "      <td>1.1</td>\n",
       "      <td>0.766667</td>\n",
       "    </tr>\n",
       "    <tr>\n",
       "      <th>Cranberry</th>\n",
       "      <td>75.0</td>\n",
       "      <td>4.0</td>\n",
       "      <td>0.75</td>\n",
       "      <td>0.3</td>\n",
       "      <td>0.4</td>\n",
       "      <td>0.483333</td>\n",
       "    </tr>\n",
       "    <tr>\n",
       "      <th>Grape</th>\n",
       "      <td>70.0</td>\n",
       "      <td>4.0</td>\n",
       "      <td>0.80</td>\n",
       "      <td>0.3</td>\n",
       "      <td>0.5</td>\n",
       "      <td>0.533333</td>\n",
       "    </tr>\n",
       "    <tr>\n",
       "      <th>Melon</th>\n",
       "      <td>75.0</td>\n",
       "      <td>13.0</td>\n",
       "      <td>1.50</td>\n",
       "      <td>1.2</td>\n",
       "      <td>1.1</td>\n",
       "      <td>1.266667</td>\n",
       "    </tr>\n",
       "    <tr>\n",
       "      <th>Orange</th>\n",
       "      <td>40.0</td>\n",
       "      <td>5.0</td>\n",
       "      <td>1.00</td>\n",
       "      <td>0.5</td>\n",
       "      <td>0.8</td>\n",
       "      <td>0.766667</td>\n",
       "    </tr>\n",
       "    <tr>\n",
       "      <th>Peach</th>\n",
       "      <td>55.0</td>\n",
       "      <td>8.0</td>\n",
       "      <td>1.40</td>\n",
       "      <td>0.7</td>\n",
       "      <td>0.6</td>\n",
       "      <td>0.900000</td>\n",
       "    </tr>\n",
       "    <tr>\n",
       "      <th>Pomegranate</th>\n",
       "      <td>5.0</td>\n",
       "      <td>8.0</td>\n",
       "      <td>1.40</td>\n",
       "      <td>0.8</td>\n",
       "      <td>1.2</td>\n",
       "      <td>1.133333</td>\n",
       "    </tr>\n",
       "    <tr>\n",
       "      <th>Rhubarb</th>\n",
       "      <td>70.0</td>\n",
       "      <td>12.0</td>\n",
       "      <td>0.90</td>\n",
       "      <td>1.1</td>\n",
       "      <td>0.5</td>\n",
       "      <td>0.833333</td>\n",
       "    </tr>\n",
       "    <tr>\n",
       "      <th>Starfruit</th>\n",
       "      <td>5.0</td>\n",
       "      <td>40.0</td>\n",
       "      <td>0.50</td>\n",
       "      <td>1.9</td>\n",
       "      <td>0.4</td>\n",
       "      <td>0.933333</td>\n",
       "    </tr>\n",
       "    <tr>\n",
       "      <th>Strawberry</th>\n",
       "      <td>20.0</td>\n",
       "      <td>6.0</td>\n",
       "      <td>1.20</td>\n",
       "      <td>0.6</td>\n",
       "      <td>1.0</td>\n",
       "      <td>0.933333</td>\n",
       "    </tr>\n",
       "    <tr>\n",
       "      <th>Amaranth</th>\n",
       "      <td>20.0</td>\n",
       "      <td>6.0</td>\n",
       "      <td>1.50</td>\n",
       "      <td>0.6</td>\n",
       "      <td>1.0</td>\n",
       "      <td>1.033333</td>\n",
       "    </tr>\n",
       "    <tr>\n",
       "      <th>Artichoke</th>\n",
       "      <td>65.0</td>\n",
       "      <td>6.0</td>\n",
       "      <td>1.60</td>\n",
       "      <td>0.5</td>\n",
       "      <td>0.6</td>\n",
       "      <td>0.900000</td>\n",
       "    </tr>\n",
       "    <tr>\n",
       "      <th>Beet</th>\n",
       "      <td>30.0</td>\n",
       "      <td>4.0</td>\n",
       "      <td>1.00</td>\n",
       "      <td>0.4</td>\n",
       "      <td>0.9</td>\n",
       "      <td>0.766667</td>\n",
       "    </tr>\n",
       "    <tr>\n",
       "      <th>Bok Choy</th>\n",
       "      <td>55.0</td>\n",
       "      <td>3.0</td>\n",
       "      <td>0.80</td>\n",
       "      <td>0.2</td>\n",
       "      <td>0.7</td>\n",
       "      <td>0.566667</td>\n",
       "    </tr>\n",
       "    <tr>\n",
       "      <th>Cauliflower</th>\n",
       "      <td>70.0</td>\n",
       "      <td>7.0</td>\n",
       "      <td>1.75</td>\n",
       "      <td>0.6</td>\n",
       "      <td>0.5</td>\n",
       "      <td>0.950000</td>\n",
       "    </tr>\n",
       "    <tr>\n",
       "      <th>Corn</th>\n",
       "      <td>90.0</td>\n",
       "      <td>2.0</td>\n",
       "      <td>0.50</td>\n",
       "      <td>0.1</td>\n",
       "      <td>0.3</td>\n",
       "      <td>0.300000</td>\n",
       "    </tr>\n",
       "    <tr>\n",
       "      <th>Eggplant</th>\n",
       "      <td>95.0</td>\n",
       "      <td>2.0</td>\n",
       "      <td>0.60</td>\n",
       "      <td>0.1</td>\n",
       "      <td>0.3</td>\n",
       "      <td>0.333333</td>\n",
       "    </tr>\n",
       "    <tr>\n",
       "      <th>Garlic</th>\n",
       "      <td>95.0</td>\n",
       "      <td>2.0</td>\n",
       "      <td>0.60</td>\n",
       "      <td>0.1</td>\n",
       "      <td>0.2</td>\n",
       "      <td>0.300000</td>\n",
       "    </tr>\n",
       "    <tr>\n",
       "      <th>Green Bean</th>\n",
       "      <td>55.0</td>\n",
       "      <td>2.0</td>\n",
       "      <td>0.40</td>\n",
       "      <td>0.1</td>\n",
       "      <td>0.7</td>\n",
       "      <td>0.400000</td>\n",
       "    </tr>\n",
       "    <tr>\n",
       "      <th>Hops</th>\n",
       "      <td>75.0</td>\n",
       "      <td>5.0</td>\n",
       "      <td>0.25</td>\n",
       "      <td>0.4</td>\n",
       "      <td>0.4</td>\n",
       "      <td>0.350000</td>\n",
       "    </tr>\n",
       "    <tr>\n",
       "      <th>Hot Pepper</th>\n",
       "      <td>25.0</td>\n",
       "      <td>2.0</td>\n",
       "      <td>0.40</td>\n",
       "      <td>0.2</td>\n",
       "      <td>1.0</td>\n",
       "      <td>0.533333</td>\n",
       "    </tr>\n",
       "    <tr>\n",
       "      <th>Kale</th>\n",
       "      <td>5.0</td>\n",
       "      <td>4.0</td>\n",
       "      <td>1.10</td>\n",
       "      <td>0.4</td>\n",
       "      <td>1.1</td>\n",
       "      <td>0.866667</td>\n",
       "    </tr>\n",
       "    <tr>\n",
       "      <th>Parsnip</th>\n",
       "      <td>10.0</td>\n",
       "      <td>1.0</td>\n",
       "      <td>0.35</td>\n",
       "      <td>0.1</td>\n",
       "      <td>1.1</td>\n",
       "      <td>0.516667</td>\n",
       "    </tr>\n",
       "    <tr>\n",
       "      <th>Potato</th>\n",
       "      <td>55.0</td>\n",
       "      <td>3.0</td>\n",
       "      <td>0.80</td>\n",
       "      <td>0.2</td>\n",
       "      <td>0.6</td>\n",
       "      <td>0.533333</td>\n",
       "    </tr>\n",
       "    <tr>\n",
       "      <th>Pumpkin</th>\n",
       "      <td>30.0</td>\n",
       "      <td>13.0</td>\n",
       "      <td>1.20</td>\n",
       "      <td>1.2</td>\n",
       "      <td>0.2</td>\n",
       "      <td>0.866667</td>\n",
       "    </tr>\n",
       "    <tr>\n",
       "      <th>Radish</th>\n",
       "      <td>50.0</td>\n",
       "      <td>4.0</td>\n",
       "      <td>0.90</td>\n",
       "      <td>0.4</td>\n",
       "      <td>0.7</td>\n",
       "      <td>0.666667</td>\n",
       "    </tr>\n",
       "    <tr>\n",
       "      <th>Red Cabbage</th>\n",
       "      <td>55.0</td>\n",
       "      <td>10.0</td>\n",
       "      <td>1.60</td>\n",
       "      <td>0.9</td>\n",
       "      <td>0.6</td>\n",
       "      <td>1.033333</td>\n",
       "    </tr>\n",
       "    <tr>\n",
       "      <th>Tomato</th>\n",
       "      <td>65.0</td>\n",
       "      <td>2.0</td>\n",
       "      <td>0.60</td>\n",
       "      <td>0.1</td>\n",
       "      <td>0.5</td>\n",
       "      <td>0.400000</td>\n",
       "    </tr>\n",
       "    <tr>\n",
       "      <th>Wheat</th>\n",
       "      <td>75.0</td>\n",
       "      <td>4.0</td>\n",
       "      <td>0.25</td>\n",
       "      <td>0.3</td>\n",
       "      <td>0.5</td>\n",
       "      <td>0.350000</td>\n",
       "    </tr>\n",
       "    <tr>\n",
       "      <th>Yam</th>\n",
       "      <td>50.0</td>\n",
       "      <td>6.0</td>\n",
       "      <td>1.60</td>\n",
       "      <td>0.6</td>\n",
       "      <td>0.7</td>\n",
       "      <td>0.966667</td>\n",
       "    </tr>\n",
       "    <tr>\n",
       "      <th>Blackberry</th>\n",
       "      <td>70.0</td>\n",
       "      <td>1.0</td>\n",
       "      <td>0.20</td>\n",
       "      <td>0.0</td>\n",
       "      <td>0.5</td>\n",
       "      <td>0.233333</td>\n",
       "    </tr>\n",
       "    <tr>\n",
       "      <th>Ratatouille</th>\n",
       "      <td>NaN</td>\n",
       "      <td>NaN</td>\n",
       "      <td>68.00</td>\n",
       "      <td>13.0</td>\n",
       "      <td>52.0</td>\n",
       "      <td>44.333333</td>\n",
       "    </tr>\n",
       "    <tr>\n",
       "      <th>Apple Pie</th>\n",
       "      <td>NaN</td>\n",
       "      <td>NaN</td>\n",
       "      <td>146.00</td>\n",
       "      <td>84.0</td>\n",
       "      <td>176.0</td>\n",
       "      <td>135.333333</td>\n",
       "    </tr>\n",
       "    <tr>\n",
       "      <th>Apricot Pie</th>\n",
       "      <td>NaN</td>\n",
       "      <td>NaN</td>\n",
       "      <td>81.00</td>\n",
       "      <td>46.0</td>\n",
       "      <td>110.0</td>\n",
       "      <td>79.000000</td>\n",
       "    </tr>\n",
       "    <tr>\n",
       "      <th>Cherry Pie</th>\n",
       "      <td>NaN</td>\n",
       "      <td>NaN</td>\n",
       "      <td>120.00</td>\n",
       "      <td>72.0</td>\n",
       "      <td>176.0</td>\n",
       "      <td>122.666667</td>\n",
       "    </tr>\n",
       "    <tr>\n",
       "      <th>Rhubarb Pie</th>\n",
       "      <td>NaN</td>\n",
       "      <td>NaN</td>\n",
       "      <td>133.00</td>\n",
       "      <td>162.0</td>\n",
       "      <td>98.0</td>\n",
       "      <td>131.000000</td>\n",
       "    </tr>\n",
       "    <tr>\n",
       "      <th>Strawberry Pie</th>\n",
       "      <td>NaN</td>\n",
       "      <td>NaN</td>\n",
       "      <td>172.00</td>\n",
       "      <td>98.0</td>\n",
       "      <td>162.0</td>\n",
       "      <td>144.000000</td>\n",
       "    </tr>\n",
       "    <tr>\n",
       "      <th>Blackberry Pie</th>\n",
       "      <td>NaN</td>\n",
       "      <td>NaN</td>\n",
       "      <td>42.00</td>\n",
       "      <td>20.0</td>\n",
       "      <td>98.0</td>\n",
       "      <td>53.333333</td>\n",
       "    </tr>\n",
       "    <tr>\n",
       "      <th>Pumpkin Pie</th>\n",
       "      <td>NaN</td>\n",
       "      <td>NaN</td>\n",
       "      <td>172.00</td>\n",
       "      <td>176.0</td>\n",
       "      <td>58.0</td>\n",
       "      <td>135.333333</td>\n",
       "    </tr>\n",
       "    <tr>\n",
       "      <th>Pizza</th>\n",
       "      <td>NaN</td>\n",
       "      <td>NaN</td>\n",
       "      <td>51.00</td>\n",
       "      <td>18.0</td>\n",
       "      <td>40.0</td>\n",
       "      <td>36.333333</td>\n",
       "    </tr>\n",
       "    <tr>\n",
       "      <th>Baba Ghanoush</th>\n",
       "      <td>NaN</td>\n",
       "      <td>NaN</td>\n",
       "      <td>47.00</td>\n",
       "      <td>8.0</td>\n",
       "      <td>18.0</td>\n",
       "      <td>24.333333</td>\n",
       "    </tr>\n",
       "    <tr>\n",
       "      <th>Squash Soup</th>\n",
       "      <td>NaN</td>\n",
       "      <td>NaN</td>\n",
       "      <td>78.00</td>\n",
       "      <td>39.0</td>\n",
       "      <td>30.0</td>\n",
       "      <td>49.000000</td>\n",
       "    </tr>\n",
       "    <tr>\n",
       "      <th>Peach Beer</th>\n",
       "      <td>NaN</td>\n",
       "      <td>NaN</td>\n",
       "      <td>28.00</td>\n",
       "      <td>25.0</td>\n",
       "      <td>23.0</td>\n",
       "      <td>25.333333</td>\n",
       "    </tr>\n",
       "    <tr>\n",
       "      <th>Blackberry Beer</th>\n",
       "      <td>NaN</td>\n",
       "      <td>NaN</td>\n",
       "      <td>12.00</td>\n",
       "      <td>16.0</td>\n",
       "      <td>22.0</td>\n",
       "      <td>16.666667</td>\n",
       "    </tr>\n",
       "  </tbody>\n",
       "</table>\n",
       "</div>"
      ],
      "text/plain": [
       "                 stock  weight  price_A  price_B  price_C  price_average\n",
       "Apple              5.0     5.0     1.00      0.5      1.1       0.866667\n",
       "Apricot           65.0     3.0     0.50      0.2      0.6       0.433333\n",
       "Blueberry          5.0     3.0     0.50      0.3      1.2       0.666667\n",
       "Cactus Fruit      90.0     4.0     0.75      0.3      0.3       0.450000\n",
       "Cherry            15.0     4.0     0.80      0.4      1.1       0.766667\n",
       "Cranberry         75.0     4.0     0.75      0.3      0.4       0.483333\n",
       "Grape             70.0     4.0     0.80      0.3      0.5       0.533333\n",
       "Melon             75.0    13.0     1.50      1.2      1.1       1.266667\n",
       "Orange            40.0     5.0     1.00      0.5      0.8       0.766667\n",
       "Peach             55.0     8.0     1.40      0.7      0.6       0.900000\n",
       "Pomegranate        5.0     8.0     1.40      0.8      1.2       1.133333\n",
       "Rhubarb           70.0    12.0     0.90      1.1      0.5       0.833333\n",
       "Starfruit          5.0    40.0     0.50      1.9      0.4       0.933333\n",
       "Strawberry        20.0     6.0     1.20      0.6      1.0       0.933333\n",
       "Amaranth          20.0     6.0     1.50      0.6      1.0       1.033333\n",
       "Artichoke         65.0     6.0     1.60      0.5      0.6       0.900000\n",
       "Beet              30.0     4.0     1.00      0.4      0.9       0.766667\n",
       "Bok Choy          55.0     3.0     0.80      0.2      0.7       0.566667\n",
       "Cauliflower       70.0     7.0     1.75      0.6      0.5       0.950000\n",
       "Corn              90.0     2.0     0.50      0.1      0.3       0.300000\n",
       "Eggplant          95.0     2.0     0.60      0.1      0.3       0.333333\n",
       "Garlic            95.0     2.0     0.60      0.1      0.2       0.300000\n",
       "Green Bean        55.0     2.0     0.40      0.1      0.7       0.400000\n",
       "Hops              75.0     5.0     0.25      0.4      0.4       0.350000\n",
       "Hot Pepper        25.0     2.0     0.40      0.2      1.0       0.533333\n",
       "Kale               5.0     4.0     1.10      0.4      1.1       0.866667\n",
       "Parsnip           10.0     1.0     0.35      0.1      1.1       0.516667\n",
       "Potato            55.0     3.0     0.80      0.2      0.6       0.533333\n",
       "Pumpkin           30.0    13.0     1.20      1.2      0.2       0.866667\n",
       "Radish            50.0     4.0     0.90      0.4      0.7       0.666667\n",
       "Red Cabbage       55.0    10.0     1.60      0.9      0.6       1.033333\n",
       "Tomato            65.0     2.0     0.60      0.1      0.5       0.400000\n",
       "Wheat             75.0     4.0     0.25      0.3      0.5       0.350000\n",
       "Yam               50.0     6.0     1.60      0.6      0.7       0.966667\n",
       "Blackberry        70.0     1.0     0.20      0.0      0.5       0.233333\n",
       "Ratatouille        NaN     NaN    68.00     13.0     52.0      44.333333\n",
       "Apple Pie          NaN     NaN   146.00     84.0    176.0     135.333333\n",
       "Apricot Pie        NaN     NaN    81.00     46.0    110.0      79.000000\n",
       "Cherry Pie         NaN     NaN   120.00     72.0    176.0     122.666667\n",
       "Rhubarb Pie        NaN     NaN   133.00    162.0     98.0     131.000000\n",
       "Strawberry Pie     NaN     NaN   172.00     98.0    162.0     144.000000\n",
       "Blackberry Pie     NaN     NaN    42.00     20.0     98.0      53.333333\n",
       "Pumpkin Pie        NaN     NaN   172.00    176.0     58.0     135.333333\n",
       "Pizza              NaN     NaN    51.00     18.0     40.0      36.333333\n",
       "Baba Ghanoush      NaN     NaN    47.00      8.0     18.0      24.333333\n",
       "Squash Soup        NaN     NaN    78.00     39.0     30.0      49.000000\n",
       "Peach Beer         NaN     NaN    28.00     25.0     23.0      25.333333\n",
       "Blackberry Beer    NaN     NaN    12.00     16.0     22.0      16.666667"
      ]
     },
     "execution_count": 170,
     "metadata": {},
     "output_type": "execute_result"
    }
   ],
   "source": [
    "df_tot = pd.concat((df, dfr), copy=True, ignore_index=False)\n",
    "df_tot"
   ]
  },
  {
   "cell_type": "code",
   "execution_count": 25,
   "id": "48b5850f",
   "metadata": {},
   "outputs": [
    {
     "data": {
      "text/plain": [
       "(146.0, 84.0, 176.0)"
      ]
     },
     "execution_count": 25,
     "metadata": {},
     "output_type": "execute_result"
    }
   ],
   "source": [
    "price_a.update(dfr['price_A'].to_dict())\n",
    "price_b.update(dfr['price_B'].to_dict())\n",
    "price_c.update(dfr['price_C'].to_dict())\n",
    "price_a['Apple Pie'], price_b['Apple Pie'], price_c['Apple Pie']"
   ]
  },
  {
   "cell_type": "markdown",
   "id": "f12c408d",
   "metadata": {},
   "source": [
    "Modify the evaluation function to take into account these recipes, making sure not to break the weight or stock constraints. The weight of a recipe is the sum total weight of the ingredients, and you can not make a recipe if you don't have the remaining stock of ingredients. Here's an example of calculating the total weight of a random load of only recipes:"
   ]
  },
  {
   "cell_type": "code",
   "execution_count": 26,
   "id": "bf9c9986",
   "metadata": {},
   "outputs": [
    {
     "data": {
      "text/plain": [
       "{'Ratatouille': 1,\n",
       " 'Apple Pie': 2,\n",
       " 'Apricot Pie': 2,\n",
       " 'Cherry Pie': 3,\n",
       " 'Rhubarb Pie': 1,\n",
       " 'Strawberry Pie': 3,\n",
       " 'Blackberry Pie': 4,\n",
       " 'Pumpkin Pie': 3,\n",
       " 'Pizza': 3,\n",
       " 'Baba Ghanoush': 2,\n",
       " 'Squash Soup': 2,\n",
       " 'Peach Beer': 3,\n",
       " 'Blackberry Beer': 2}"
      ]
     },
     "execution_count": 26,
     "metadata": {},
     "output_type": "execute_result"
    }
   ],
   "source": [
    "recipe_load = {}\n",
    "for k in recipes:\n",
    "    recipe_load[k] = np.random.randint(0, 5)\n",
    "recipe_load"
   ]
  },
  {
   "cell_type": "code",
   "execution_count": 27,
   "id": "6fbd7e02",
   "metadata": {},
   "outputs": [],
   "source": [
    "def get_weight(recipe_load, recipes, weight):\n",
    "    total_weight = 0\n",
    "    for k in recipe_load:\n",
    "        ingredients = recipes[k]\n",
    "        w = 0\n",
    "        for i in ingredients:\n",
    "            w += weight[i] * ingredients[i]\n",
    "        total_weight += w * recipe_load[k]\n",
    "    return total_weight"
   ]
  },
  {
   "cell_type": "code",
   "execution_count": 28,
   "id": "22027764",
   "metadata": {},
   "outputs": [
    {
     "data": {
      "text/plain": [
       "1635"
      ]
     },
     "execution_count": 28,
     "metadata": {},
     "output_type": "execute_result"
    }
   ],
   "source": [
    "get_weight(recipe_load, recipes, weight)"
   ]
  },
  {
   "cell_type": "markdown",
   "id": "16aa5d3d",
   "metadata": {},
   "source": [
    "Once you've modified the evaluation function, rerun the optimization algorithm to find a new load for the three resellers, and one load which is good for all three. Display this result and the profit gained, making sure that the constraints are met."
   ]
  },
  {
   "cell_type": "markdown",
   "id": "ac9e164e",
   "metadata": {},
   "source": [
    "## Evaluation"
   ]
  },
  {
   "cell_type": "markdown",
   "id": "3fc7150b",
   "metadata": {},
   "source": [
    "You should submit a saved copy of your notebook (including all of the cell output) to the LMS by December 13th, EOD. You may work with one partner, but you must **individually submit a notebook**. You will be graded based on your results, your code, and any text or visual explanations, according to the following rubric:\n",
    "\n",
    "Criterion | Points\n",
    "--- | ---\n",
    "Results - Challenge 1 | 7\n",
    "Results - Challenge 2 | 5\n",
    "Results - Challenge 3 | 3\n",
    "Presentation (code, text) | 5"
   ]
  },
  {
   "cell_type": "code",
   "execution_count": null,
   "id": "7520033a",
   "metadata": {},
   "outputs": [],
   "source": []
  }
 ],
 "metadata": {
  "kernelspec": {
   "display_name": "Python 3 (ipykernel)",
   "language": "python",
   "name": "python3"
  },
  "language_info": {
   "codemirror_mode": {
    "name": "ipython",
    "version": 3
   },
   "file_extension": ".py",
   "mimetype": "text/x-python",
   "name": "python",
   "nbconvert_exporter": "python",
   "pygments_lexer": "ipython3",
   "version": "3.8.10"
  }
 },
 "nbformat": 4,
 "nbformat_minor": 5
}
