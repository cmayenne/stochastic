{
 "cells": [
  {
   "cell_type": "markdown",
   "id": "d8823f9d",
   "metadata": {},
   "source": [
    "# Project - Market Day\n",
    "\n",
    "<a rel=\"license\" href=\"http://creativecommons.org/licenses/by-sa/4.0/\"><img alt=\"Creative Commons License\" align=\"left\" src=\"https://i.creativecommons.org/l/by-sa/4.0/80x15.png\" /></a>&nbsp;| Dennis G. Wilson | <a href=\"https://supaerodatascience.github.io/stochastic/\">https://supaerodatascience.github.io/stochastic/</a>"
   ]
  },
  {
   "cell_type": "markdown",
   "id": "e6452934",
   "metadata": {},
   "source": [
    "![Stardew Valley](https://venturebeat.com/wp-content/uploads/2018/01/sw7rtba7p1xs77klsime.png)"
   ]
  },
  {
   "cell_type": "markdown",
   "id": "68359e75",
   "metadata": {},
   "source": [
    "It is Market Day! You've been working hard for a whole season, planting, watering, and taking care of crops. Now it is time to sell them in town. Just one problem though - your old truck can only carry so much weight. Which crops should you bring to maximize your profits? "
   ]
  },
  {
   "cell_type": "markdown",
   "id": "fa661645",
   "metadata": {},
   "source": [
    "In this project, you will use a stochastic algorithm of your choice to find the best crop configuration you can load into your truck. You know how much stock you have of each crop, how much each crop weighs, and what price it will fetch at the market. You should use these values throughout the project."
   ]
  },
  {
   "cell_type": "markdown",
   "id": "459e3e1a",
   "metadata": {},
   "source": [
    "Before we start, if you're using colab to run this notebook, you'll need to uncomment and run the following lines:"
   ]
  },
  {
   "cell_type": "code",
   "execution_count": null,
   "id": "c98dedf7",
   "metadata": {},
   "outputs": [],
   "source": [
    "#!wget https://raw.githubusercontent.com/SupaeroDataScience/stochastic/master/project/market.csv\n",
    "#!wget https://raw.githubusercontent.com/SupaeroDataScience/stochastic/master/project/recipes.csv\n",
    "#!pip install pymoo"
   ]
  },
  {
   "cell_type": "code",
   "execution_count": null,
   "id": "3fd3c7cf",
   "metadata": {},
   "outputs": [],
   "source": [
    "import numpy as np\n",
    "import pandas as pd\n",
    "import pymoo\n",
    "import copy"
   ]
  },
  {
   "cell_type": "code",
   "execution_count": null,
   "id": "1c3d4f41",
   "metadata": {},
   "outputs": [],
   "source": [
    "df = pd.read_csv('market.csv', index_col=0)\n",
    "df.head()"
   ]
  },
  {
   "cell_type": "code",
   "execution_count": null,
   "id": "614d7ba3",
   "metadata": {},
   "outputs": [],
   "source": [
    "stock = df['stock'].to_dict()\n",
    "weight = df['weight'].to_dict()\n",
    "price = df['price_A'].to_dict()"
   ]
  },
  {
   "cell_type": "code",
   "execution_count": null,
   "id": "5d28fa1e",
   "metadata": {},
   "outputs": [],
   "source": [
    "stock"
   ]
  },
  {
   "cell_type": "markdown",
   "id": "91c0dc4b",
   "metadata": {},
   "source": [
    "To evaluate your possible load going to the market, we will use a function that takes in a dictionary of this type, specifying how many of each crop you will take. This function will take into the constraints of having enough stock of the crop type and of not surpassing the weight limit."
   ]
  },
  {
   "cell_type": "code",
   "execution_count": null,
   "id": "587b7af3",
   "metadata": {},
   "outputs": [],
   "source": [
    "def evaluate(load, stock, weight, price, max_weight=3000):\n",
    "    total_weight = 0\n",
    "    total_price = 0\n",
    "    for k in load:\n",
    "        if load[k] <= stock[k]:\n",
    "            total_price += load[k] * price[k]\n",
    "            total_weight += load[k] * weight[k]\n",
    "            if total_weight > max_weight:\n",
    "                return 0\n",
    "        else:\n",
    "            return 0\n",
    "    return total_price"
   ]
  },
  {
   "cell_type": "markdown",
   "id": "f832b811",
   "metadata": {},
   "source": [
    "You can try this with an example load generated randomly:"
   ]
  },
  {
   "cell_type": "code",
   "execution_count": null,
   "id": "8223f09c",
   "metadata": {},
   "outputs": [],
   "source": [
    "trial_load = {}\n",
    "for k in stock:\n",
    "    trial_load[k] = np.random.randint(0, stock[k])\n",
    "trial_load"
   ]
  },
  {
   "cell_type": "code",
   "execution_count": null,
   "id": "e9538ac0",
   "metadata": {},
   "outputs": [],
   "source": [
    "evaluate(trial_load, stock, weight, price)"
   ]
  },
  {
   "cell_type": "markdown",
   "id": "b49edb3c",
   "metadata": {},
   "source": [
    "## Challenge 1\n",
    "\n",
    "Use a stochastic algorithm to find the configuration of crops that maximizes profit while respecting the constraints of the weight limit and stock. You can use any of the class code or a library like `pymoo`. You should create a reasonable representation for the problem and appropriate modification functions like mutation and crossover. You can also modify the evaluation function, as long as your final solution is valid according to the weight and stock constraints.\n",
    "\n",
    "Include your code for optimization, any visualizations of the optimization process, as well as code to show the final market load and profit gained. Can you beat the random trial load profits?\n",
    "\n",
    "Hint: this is a constrained case of the [knapsack problem](https://en.wikipedia.org/wiki/Knapsack_problem)"
   ]
  },
  {
   "cell_type": "markdown",
   "id": "1db64ad0",
   "metadata": {},
   "source": [
    "## Challenge 2\n"
   ]
  },
  {
   "cell_type": "markdown",
   "id": "ad10e8aa",
   "metadata": {},
   "source": [
    "The agricultural market in this world is highly variable. This time, you'll be selling your load to a reseller, but you're not sure which one. Each reseller has different prices, so it depends on which one you'll meet. To be prepared, you should explore the possible options."
   ]
  },
  {
   "cell_type": "code",
   "execution_count": null,
   "id": "6f1fb98d",
   "metadata": {},
   "outputs": [],
   "source": [
    "price_a = df['price_A'].to_dict()\n",
    "price_b = df['price_B'].to_dict()\n",
    "price_c = df['price_C'].to_dict()"
   ]
  },
  {
   "cell_type": "code",
   "execution_count": null,
   "id": "c2b295f9",
   "metadata": {},
   "outputs": [],
   "source": [
    "price_a['Cherry'], price_b['Cherry'], price_c['Cherry']"
   ]
  },
  {
   "cell_type": "markdown",
   "id": "5ad5ab54",
   "metadata": {},
   "source": [
    "Given that cherries have very different prices between the different resellers, the example load we made ealier would fetch a wildly different price depending on the reseller:"
   ]
  },
  {
   "cell_type": "code",
   "execution_count": null,
   "id": "8dc3fa44",
   "metadata": {},
   "outputs": [],
   "source": [
    "a = evaluate(trial_load, stock, weight, price_a)\n",
    "b = evaluate(trial_load, stock, weight, price_b)\n",
    "c = evaluate(trial_load, stock, weight, price_c)\n",
    "print(a, b, c)"
   ]
  },
  {
   "cell_type": "markdown",
   "id": "40447192",
   "metadata": {},
   "source": [
    "Prepare four different options for your market day haul: one option that will be good for reseller A, one for reseller B, one for reseller C, and one which would be pretty good for all three. Display these options and compare their different prices."
   ]
  },
  {
   "cell_type": "markdown",
   "id": "8c3ff230",
   "metadata": {},
   "source": [
    "Hint: you can use a multi-objective algorithm to optimize for all three reseller prices at the same time."
   ]
  },
  {
   "cell_type": "markdown",
   "id": "0d026d23",
   "metadata": {},
   "source": [
    "## Challenge 3"
   ]
  },
  {
   "cell_type": "markdown",
   "id": "1d7603f4",
   "metadata": {},
   "source": [
    "You decide to preprare some of your crops by making food for the market day. You know a number of recipes and are famous for your delicious fruit pies."
   ]
  },
  {
   "cell_type": "code",
   "execution_count": null,
   "id": "025beabd",
   "metadata": {},
   "outputs": [],
   "source": [
    "recipes = {'Ratatouille': {'Eggplant': 2, 'Garlic': 2, 'Tomato': 4, 'Hot Pepper': 1},\n",
    " 'Apple Pie': {'Apple': 10, 'Wheat': 5},\n",
    " 'Apricot Pie': {'Apricot': 10, 'Wheat': 5},\n",
    " 'Cherry Pie': {'Cherry': 10, 'Wheat': 5},\n",
    " 'Rhubarb Pie': {'Rhubarb': 10, 'Wheat': 5},\n",
    " 'Strawberry Pie': {'Strawberry': 10, 'Wheat': 5},\n",
    " 'Blackberry Pie': {'Blackberry': 10, 'Wheat': 5},\n",
    " 'Pumpkin Pie': {'Pumpkin': 10, 'Wheat': 5},\n",
    " 'Pizza': {'Tomato': 3, 'Wheat': 2, 'Artichoke': 1},\n",
    " 'Baba Ghanoush': {'Eggplant': 2, 'Garlic': 4},\n",
    " 'Squash Soup': {'Yam': 3, 'Pumpkin': 1},\n",
    " 'Peach Beer': {'Hops': 3, 'Peach': 1},\n",
    " 'Blackberry Beer': {'Hops': 3, 'Blackberry': 1}}"
   ]
  },
  {
   "cell_type": "markdown",
   "id": "1e250a2c",
   "metadata": {},
   "source": [
    "These recipes sell for good prices at each of the resellers:"
   ]
  },
  {
   "cell_type": "code",
   "execution_count": null,
   "id": "7d0bfc4d",
   "metadata": {},
   "outputs": [],
   "source": [
    "df = pd.read_csv('recipes.csv', index_col=0)\n",
    "df.head()"
   ]
  },
  {
   "cell_type": "code",
   "execution_count": null,
   "id": "48b5850f",
   "metadata": {},
   "outputs": [],
   "source": [
    "price_a.update(df['price_A'].to_dict())\n",
    "price_b.update(df['price_B'].to_dict())\n",
    "price_c.update(df['price_C'].to_dict())\n",
    "price_a['Apple Pie'], price_b['Apple Pie'], price_c['Apple Pie']"
   ]
  },
  {
   "cell_type": "markdown",
   "id": "f12c408d",
   "metadata": {},
   "source": [
    "Modify the evaluation function to take into account these recipes, making sure not to break the weight or stock constraints. The weight of a recipe is the sum total weight of the ingredients, and you can not make a recipe if you don't have the remaining stock of ingredients. Here's an example of calculating the total weight of a random load of only recipes:"
   ]
  },
  {
   "cell_type": "code",
   "execution_count": null,
   "id": "bf9c9986",
   "metadata": {},
   "outputs": [],
   "source": [
    "recipe_load = {}\n",
    "for k in recipes:\n",
    "    recipe_load[k] = np.random.randint(0, 5)\n",
    "recipe_load"
   ]
  },
  {
   "cell_type": "code",
   "execution_count": null,
   "id": "6fbd7e02",
   "metadata": {},
   "outputs": [],
   "source": [
    "def get_weight(recipe_load, recipes, weight):\n",
    "    total_weight = 0\n",
    "    for k in recipe_load:\n",
    "        ingredients = recipes[k]\n",
    "        for i in ingredients:\n",
    "            total_weight += weight[i] * ingredients[i]\n",
    "    return total_weight"
   ]
  },
  {
   "cell_type": "code",
   "execution_count": null,
   "id": "22027764",
   "metadata": {},
   "outputs": [],
   "source": [
    "get_weight(recipe_load, recipes, weight)"
   ]
  },
  {
   "cell_type": "markdown",
   "id": "16aa5d3d",
   "metadata": {},
   "source": [
    "Once you've modified the evaluation function, rerun the optimization algorithm to find a new load for the three resellers, and one load which is good for all three. Display this result and the profit gained, making sure that the constraints are met."
   ]
  },
  {
   "cell_type": "markdown",
   "id": "ac9e164e",
   "metadata": {},
   "source": [
    "## Evaluation"
   ]
  },
  {
   "cell_type": "markdown",
   "id": "3fc7150b",
   "metadata": {},
   "source": [
    "You should submit a saved copy of your notebook (including all of the cell output) to the LMS by December 13th, EOD. You may work with one partner, but you must **individually submit a notebook**. You will be graded based on your results, your code, and any text or visual explanations, according to the following rubric:\n",
    "\n",
    "Criterion | Points\n",
    "--- | ---\n",
    "Results - Challenge 1 | 7\n",
    "Results - Challenge 2 | 5\n",
    "Results - Challenge 3 | 3\n",
    "Presentation (code, text) | 5"
   ]
  },
  {
   "cell_type": "code",
   "execution_count": null,
   "id": "7520033a",
   "metadata": {},
   "outputs": [],
   "source": []
  }
 ],
 "metadata": {
  "kernelspec": {
   "display_name": "Python 3 (ipykernel)",
   "language": "python",
   "name": "python3"
  },
  "language_info": {
   "codemirror_mode": {
    "name": "ipython",
    "version": 3
   },
   "file_extension": ".py",
   "mimetype": "text/x-python",
   "name": "python",
   "nbconvert_exporter": "python",
   "pygments_lexer": "ipython3",
   "version": "3.10.8"
  }
 },
 "nbformat": 4,
 "nbformat_minor": 5
}
